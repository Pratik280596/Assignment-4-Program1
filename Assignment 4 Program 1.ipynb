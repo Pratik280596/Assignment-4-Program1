{
 "cells": [
  {
   "cell_type": "code",
   "execution_count": null,
   "id": "3b2a23c6",
   "metadata": {},
   "outputs": [],
   "source": [
    "#Write a Python program to triple all numbers of a given list of integers. Use Python map."
   ]
  },
  {
   "cell_type": "code",
   "execution_count": null,
   "id": "2b4b07c7",
   "metadata": {},
   "outputs": [],
   "source": [
    "#Declaring List\n",
    "nums = (1, 2, 3, 4, 5, 6, 7)\n",
    "\n",
    "#Printing List\n",
    "print(\"Original list: \", nums)\n",
    "\n",
    "#Mapping\n",
    "result = map(lambda x: x + x + x, nums)\n",
    "\n",
    "#Printing Name Of the list\n",
    "print(\"\\nTriple of said list numbers:\")\n",
    "\n",
    "#Printing result\n",
    "print(list(result))"
   ]
  }
 ],
 "metadata": {
  "kernelspec": {
   "display_name": "Python 3 (ipykernel)",
   "language": "python",
   "name": "python3"
  },
  "language_info": {
   "codemirror_mode": {
    "name": "ipython",
    "version": 3
   },
   "file_extension": ".py",
   "mimetype": "text/x-python",
   "name": "python",
   "nbconvert_exporter": "python",
   "pygments_lexer": "ipython3",
   "version": "3.7.0"
  }
 },
 "nbformat": 4,
 "nbformat_minor": 5
}
